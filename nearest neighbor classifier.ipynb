{
 "cells": [
  {
   "cell_type": "code",
   "execution_count": 1,
   "metadata": {},
   "outputs": [],
   "source": [
    "import numpy as np\n",
    "import pandas as pd\n",
    "import matplotlib.pyplot as plt\n",
    "import scipy\n",
    "%matplotlib inline\n",
    "from sklearn.neighbors import KNeighborsClassifier"
   ]
  },
  {
   "cell_type": "code",
   "execution_count": 2,
   "metadata": {},
   "outputs": [],
   "source": [
    "music = pd.DataFrame()\n",
    "\n",
    "# Some data to play with.\n",
    "music['duration'] = [184, 134, 243, 186, 122, 197, 294, 382, 102, 264, \n",
    "                     205, 110, 307, 110, 397, 153, 190, 192, 210, 403,\n",
    "                     164, 198, 204, 253, 234, 190, 182, 401, 376, 102]\n",
    "music['loudness'] = [18, 34, 43, 36, 22, 9, 29, 22, 10, 24, \n",
    "                     20, 10, 17, 51, 7, 13, 19, 12, 21, 22,\n",
    "                     16, 18, 4, 23, 34, 19, 14, 11, 37, 42]\n",
    "\n",
    "# We know whether the songs in our training data are jazz or not.\n",
    "music['jazz'] = [ 1, 0, 0, 0, 1, 1, 0, 1, 1, 0,\n",
    "                  0, 1, 1, 0, 1, 1, 0, 1, 1, 1,\n",
    "                  1, 1, 1, 1, 0, 0, 1, 1, 0, 0]"
   ]
  },
  {
   "cell_type": "code",
   "execution_count": 17,
   "metadata": {},
   "outputs": [
    {
     "data": {
      "text/plain": [
       "1"
      ]
     },
     "execution_count": 17,
     "metadata": {},
     "output_type": "execute_result"
    }
   ],
   "source": [
    "#let feature be the columns in our dataframe representing our training set, and let outcome_y be the outcome variable.\n",
    "\n",
    "def n_neighbor(entry1, feature, outcome_y):\n",
    "    \n",
    "    dist_list = []\n",
    "    \n",
    "    for x in feature:\n",
    "        dist_var = entry1 - x\n",
    "        dist_sqr = dist_var ** 2\n",
    "        dist_sqrt = np.sqrt(dist_sqr)\n",
    "#store all the distance values from our test point, entry1, to all the other datapoints.        \n",
    "        dist_list.append(dist_sqrt)\n",
    "#convert the list into an array and get the minimum distance value.        \n",
    "    list_to_array = np.array(dist_list)\n",
    "    min_dist_value = list_to_array.min()\n",
    "#get the index position of data point with the least distance from our test point.    \n",
    "    array_to_list = list_to_array.tolist()\n",
    "    min_value_index = array_to_list.index(min_dist_value)\n",
    "#index outcome_y based on the index position of the data point with minimum distance, to get the classification for our test point.    \n",
    "    select_classification = outcome_y[min_value_index]\n",
    "    \n",
    "    \n",
    "    return select_classification\n",
    "\n",
    "n_neighbor(18, music['loudness'], music['jazz'])"
   ]
  },
  {
   "cell_type": "markdown",
   "metadata": {},
   "source": [
    "### The above algorithm works for a training set that has one feature column in it."
   ]
  }
 ],
 "metadata": {
  "kernelspec": {
   "display_name": "Python 3",
   "language": "python",
   "name": "python3"
  },
  "language_info": {
   "codemirror_mode": {
    "name": "ipython",
    "version": 3
   },
   "file_extension": ".py",
   "mimetype": "text/x-python",
   "name": "python",
   "nbconvert_exporter": "python",
   "pygments_lexer": "ipython3",
   "version": "3.7.0"
  }
 },
 "nbformat": 4,
 "nbformat_minor": 2
}
